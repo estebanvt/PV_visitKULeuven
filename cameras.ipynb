{
 "cells": [
  {
   "cell_type": "markdown",
   "metadata": {},
   "source": [
    "# 2. Cameras"
   ]
  },
  {
   "cell_type": "markdown",
   "metadata": {},
   "source": [
    "In this notebook we will run some sample scripts to illustrate concepts applied in the course."
   ]
  },
  {
   "cell_type": "markdown",
   "metadata": {},
   "source": [
    "## Set the environment"
   ]
  },
  {
   "cell_type": "code",
   "execution_count": null,
   "metadata": {},
   "outputs": [],
   "source": [
    "import matplotlib.pyplot as plt\n",
    "import numpy as np\n",
    "import cv2"
   ]
  },
  {
   "cell_type": "markdown",
   "metadata": {},
   "source": [
    "## Load image"
   ]
  },
  {
   "cell_type": "code",
   "execution_count": null,
   "metadata": {},
   "outputs": [],
   "source": [
    "# Read image from picture file\n",
    "image = cv2.imread(\"data/Gdansk.jpg\")\n",
    "# Capture webcam frame\n",
    "#video_capture = cv2.VideoCapture(0)\n",
    "#ret, image = video_capture.read()\n",
    "image = cv2.cvtColor(image, cv2.COLOR_BGR2RGB)"
   ]
  },
  {
   "cell_type": "markdown",
   "metadata": {},
   "source": [
    "## Show image and its size"
   ]
  },
  {
   "cell_type": "code",
   "execution_count": null,
   "metadata": {},
   "outputs": [],
   "source": [
    "plt.imshow(image)\n",
    "image.shape"
   ]
  },
  {
   "cell_type": "markdown",
   "metadata": {},
   "source": [
    "## Image sampling"
   ]
  },
  {
   "cell_type": "code",
   "execution_count": null,
   "metadata": {},
   "outputs": [],
   "source": [
    "height,width,channels = image.shape\n",
    "factor = 0.1\n",
    "image_sampled = cv2.resize(image,(round(factor*width), round(factor*height)))\n",
    "plt.imshow(image_sampled)\n",
    "image_sampled.shape"
   ]
  },
  {
   "cell_type": "code",
   "execution_count": null,
   "metadata": {},
   "outputs": [],
   "source": [
    "factor = 10\n",
    "image_sampled2 = cv2.resize(image,(round(factor*width), round(factor*height)))\n",
    "plt.imshow(image_sampled2)\n",
    "image_sampled2.shape"
   ]
  },
  {
   "cell_type": "markdown",
   "metadata": {},
   "source": [
    "## Image quantization"
   ]
  },
  {
   "cell_type": "code",
   "execution_count": null,
   "metadata": {},
   "outputs": [],
   "source": [
    "image_quantized64 = (np.floor(image/4)*4).astype(np.uint8)\n",
    "image_quantized16 = (np.floor(image/16)*16).astype(np.uint8)\n",
    "image_quantized4 = (np.floor(image/64)*64).astype(np.uint8)\n",
    "fig, (ax1, ax2, ax3) = plt.subplots(ncols=3, figsize=(12, 4), sharex=True, sharey=True)\n",
    "ax1.imshow(image_quantized64, cmap=\"gray\")\n",
    "ax1.set_title('64 quantization levels')\n",
    "ax2.imshow(image_quantized16, cmap=\"gray\")\n",
    "ax2.set_title('16 quantization levels')\n",
    "ax3.imshow(image_quantized4, cmap=\"gray\")\n",
    "ax3.set_title('4 quantization levels')"
   ]
  },
  {
   "cell_type": "markdown",
   "metadata": {},
   "source": [
    "## Image quantization in grayscale\n",
    "That looks weird... Let's repeat this in grayscale"
   ]
  },
  {
   "cell_type": "code",
   "execution_count": null,
   "metadata": {},
   "outputs": [],
   "source": [
    "image_gray = cv2.cvtColor(image, cv2.COLOR_BGR2GRAY)\n",
    "image_gray = image_gray/256\n",
    "q = 4\n",
    "image_quantized4 = (np.floor(image_gray*q)/q)\n",
    "q = 16\n",
    "image_quantized16 = (np.floor(image_gray*q)/q)\n",
    "fig, (ax1, ax2, ax3) = plt.subplots(ncols=3, figsize=(12, 4), sharex=True, sharey=True)\n",
    "ax1.imshow(image_gray, cmap=\"gray\")\n",
    "ax1.set_title('grayscale image')\n",
    "ax2.imshow(image_quantized16, cmap=\"gray\")\n",
    "ax2.set_title('16 quantization levels')\n",
    "ax3.imshow(image_quantized4, cmap=\"gray\")\n",
    "ax3.set_title('4 quantization levels')"
   ]
  },
  {
   "cell_type": "markdown",
   "metadata": {},
   "source": [
    "## Color images"
   ]
  },
  {
   "cell_type": "code",
   "execution_count": null,
   "metadata": {},
   "outputs": [],
   "source": [
    "image_color = image\n",
    "plt.imshow(image_color)"
   ]
  },
  {
   "cell_type": "markdown",
   "metadata": {},
   "source": [
    "### Change image into how it is seen by a color camera\n",
    "#### 3CCD camera"
   ]
  },
  {
   "cell_type": "code",
   "execution_count": null,
   "metadata": {},
   "outputs": [],
   "source": [
    "image_color_3CCD_R = image_color[:,:,0]\n",
    "image_color_3CCD_G = image_color[:,:,1]\n",
    "image_color_3CCD_B = image_color[:,:,2]\n",
    "fig, (ax1, ax2, ax3) = plt.subplots(ncols=3, figsize=(12, 4), sharex=True, sharey=True)\n",
    "ax1.imshow(image_color_3CCD_R, cmap=\"gray\")\n",
    "ax2.imshow(image_color_3CCD_G, cmap=\"gray\")\n",
    "ax3.imshow(image_color_3CCD_B, cmap=\"gray\")"
   ]
  },
  {
   "cell_type": "markdown",
   "metadata": {},
   "source": [
    "#### Bayer pattern camera"
   ]
  },
  {
   "cell_type": "code",
   "execution_count": null,
   "metadata": {},
   "outputs": [],
   "source": [
    "image_color_Bayer = np.zeros(image_color.shape)\n",
    "image_color_Bayer[::2,::2,0] = image_color[::2,::2,0] # set the red pixels\n",
    "image_color_Bayer[1::2,::2,1] = image_color[1::2,::2,1] # set the green pixels - part 1\n",
    "image_color_Bayer[::2,1::2,1] = image_color[::2,1::2,1] # set the red pixels - part 2\n",
    "image_color_Bayer[1::2,1::2,2] = image_color[1::2,1::2,2] # set the blue pixels\n",
    "plt.rcParams[\"figure.figsize\"] = [16,16]\n",
    "#plt.imshow(image_color_Bayer[:,:,:]/256) # does not display very nicely because of image size\n",
    "plt.imshow(image_color_Bayer[300:500,100:300,:]/256)\n",
    "cv2.imwrite(\"testImageMechatronics.png\", image_color_Bayer/256)"
   ]
  },
  {
   "cell_type": "code",
   "execution_count": null,
   "metadata": {},
   "outputs": [],
   "source": []
  }
 ],
 "metadata": {
  "kernelspec": {
   "display_name": "Python 3",
   "language": "python",
   "name": "python3"
  },
  "language_info": {
   "codemirror_mode": {
    "name": "ipython",
    "version": 3
   },
   "file_extension": ".py",
   "mimetype": "text/x-python",
   "name": "python",
   "nbconvert_exporter": "python",
   "pygments_lexer": "ipython3",
   "version": "3.7.4"
  }
 },
 "nbformat": 4,
 "nbformat_minor": 4
}
