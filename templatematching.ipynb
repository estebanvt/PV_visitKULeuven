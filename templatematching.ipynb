{
 "cells": [
  {
   "cell_type": "markdown",
   "metadata": {},
   "source": [
    "# Feature detection and matching"
   ]
  },
  {
   "cell_type": "code",
   "execution_count": null,
   "metadata": {},
   "outputs": [],
   "source": [
    "import numpy as np\n",
    "import cv2\n",
    "import matplotlib.pyplot as plt\n",
    "import os\n",
    "from mpl_toolkits.mplot3d import Axes3D\n",
    "\n",
    "%matplotlib inline"
   ]
  },
  {
   "cell_type": "markdown",
   "metadata": {},
   "source": [
    "## Template matching"
   ]
  },
  {
   "cell_type": "code",
   "execution_count": null,
   "metadata": {},
   "outputs": [],
   "source": [
    "dataset_path = './data'\n",
    "logo = cv2.imread(os.path.join(dataset_path, 'playground.png'))\n",
    "#logo = cv2.resize(logo, (0,0), fx=0.25, fy=0.25, interpolation=cv2.INTER_LINEAR);\n",
    "logo = np.float32(cv2.cvtColor(logo, cv2.COLOR_BGR2RGB))/256.0\n",
    "ch, w, h = logo.shape[::-1]\n",
    "img1 = cv2.imread(os.path.join(dataset_path, 'map_planckendael.png'))\n",
    "#img1 = cv2.resize(img1, (0,0), fx=0.25, fy=0.25, interpolation=cv2.INTER_LINEAR);\n",
    "img1 = np.float32(cv2.cvtColor(img1, cv2.COLOR_BGR2RGB))/256.0  # Convert from cv's BRG default color order to RGB\n",
    "\n",
    "plt.figure(figsize=(16, 8))\n",
    "plt.subplot(221),plt.imshow(logo)\n",
    "plt.subplot(222),plt.imshow(img1)\n",
    "plt.show()"
   ]
  },
  {
   "cell_type": "code",
   "execution_count": null,
   "metadata": {},
   "outputs": [],
   "source": [
    "res = cv2.matchTemplate(img1,logo,cv2.TM_CCORR_NORMED)\n",
    "min_val, max_val, min_loc, max_loc = cv2.minMaxLoc(res)\n",
    "top_left = max_loc\n",
    "bottom_right = (top_left[0] + w, top_left[1] + h)\n",
    "\n",
    "cv2.rectangle(img1,top_left, bottom_right, 255, 2)\n",
    "plt.figure(figsize=(16, 16))\n",
    "plt.imshow(res, cmap=\"gray\")\n",
    "plt.show()"
   ]
  },
  {
   "cell_type": "code",
   "execution_count": null,
   "metadata": {},
   "outputs": [],
   "source": [
    "# Quite slow method - consider scaling the images to test this - else skip this cell\n",
    "xx, yy = np.mgrid[0:res.shape[0], 0:res.shape[1]]\n",
    "\n",
    "# create the figure\n",
    "fig = plt.figure(figsize=(16, 8))\n",
    "ax = fig.gca(projection='3d')\n",
    "ax.plot_surface(xx, yy, res, rstride=10, cstride=10, linewidth=0)\n",
    "plt.show()"
   ]
  },
  {
   "cell_type": "code",
   "execution_count": null,
   "metadata": {
    "scrolled": false
   },
   "outputs": [],
   "source": [
    "# now find multiple occurences\n",
    "threshold = 0.99\n",
    "loc = np.where( res >= threshold)\n",
    "print(loc)\n",
    "print(\"found \"+str(len(loc[0]))+\" playgrounds\")\n",
    "for pt in zip(*loc[::-1]):\n",
    "    cv2.rectangle(img1, pt, (pt[0] + w, pt[1] + h), 1.0, 2)\n",
    "    \n",
    "plt.figure(figsize=(16, 16))\n",
    "plt.imshow(img1)\n",
    "plt.show()\n",
    "img1_save = cv2.cvtColor(img1*256, cv2.COLOR_RGB2BGR)\n",
    "cv2.imwrite(\"result_playgrounds.png\",img1_save)"
   ]
  },
  {
   "cell_type": "code",
   "execution_count": null,
   "metadata": {},
   "outputs": [],
   "source": [
    "dataset_path = './data'\n",
    "logo = cv2.imread(os.path.join(dataset_path, 'lufthansa_logo.jpg'))\n",
    "logo = cv2.resize(logo, (0,0), fx=0.5, fy=0.5, interpolation=cv2.INTER_LINEAR);\n",
    "logo = np.float32(cv2.cvtColor(logo, cv2.COLOR_BGR2RGB))/256.0\n",
    "ch, w, h = logo.shape[::-1]\n",
    "img1 = cv2.imread(os.path.join(dataset_path, 'lufthansa_plane.jpg'))\n",
    "img1 = cv2.resize(img1, (0,0), fx=0.5, fy=0.5, interpolation=cv2.INTER_LINEAR)\n",
    "img1 = np.float32(cv2.cvtColor(img1, cv2.COLOR_BGR2RGB))/256.0  # Convert from cv's BRG default color order to RGB\n",
    "\n",
    "plt.figure(figsize=(16,8))\n",
    "plt.subplot(121),plt.imshow(logo)\n",
    "plt.subplot(122),plt.imshow(img1)\n",
    "plt.show()"
   ]
  },
  {
   "cell_type": "code",
   "execution_count": null,
   "metadata": {},
   "outputs": [],
   "source": [
    "res = cv2.matchTemplate(img1,logo,cv2.TM_CCORR_NORMED)\n",
    "min_val, max_val, min_loc, max_loc = cv2.minMaxLoc(res)\n",
    "top_left = max_loc\n",
    "bottom_right = (top_left[0] + w, top_left[1] + h)\n",
    "\n",
    "cv2.rectangle(img1,top_left, bottom_right, 255, 2)\n",
    "\n",
    "plt.figure(figsize=(16,12))\n",
    "plt.imshow(res,cmap = 'gray')\n",
    "plt.title('Matching Result'), plt.xticks([]), plt.yticks([])\n",
    "plt.show()\n",
    "\n",
    "plt.figure(figsize=(16,12))\n",
    "plt.imshow(img1)\n",
    "plt.title('Detection Result'), plt.xticks([]), plt.yticks([])\n",
    "plt.show()"
   ]
  },
  {
   "cell_type": "code",
   "execution_count": null,
   "metadata": {},
   "outputs": [],
   "source": []
  }
 ],
 "metadata": {
  "kernelspec": {
   "display_name": "Python 3",
   "language": "python",
   "name": "python3"
  },
  "language_info": {
   "codemirror_mode": {
    "name": "ipython",
    "version": 3
   },
   "file_extension": ".py",
   "mimetype": "text/x-python",
   "name": "python",
   "nbconvert_exporter": "python",
   "pygments_lexer": "ipython3",
   "version": "3.7.4"
  }
 },
 "nbformat": 4,
 "nbformat_minor": 2
}
