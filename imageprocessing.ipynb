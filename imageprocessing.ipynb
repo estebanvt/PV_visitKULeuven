{
 "cells": [
  {
   "cell_type": "markdown",
   "metadata": {},
   "source": [
    "# Image processing"
   ]
  },
  {
   "cell_type": "markdown",
   "metadata": {},
   "source": [
    "In this notebook we will run some sample scripts to illustrate concepts of image processing applied in the course."
   ]
  },
  {
   "cell_type": "markdown",
   "metadata": {},
   "source": [
    "## Set the environment"
   ]
  },
  {
   "cell_type": "code",
   "execution_count": null,
   "metadata": {},
   "outputs": [],
   "source": [
    "import cv2\n",
    "import math\n",
    "import numpy as np\n",
    "# from skimage import io # required to read your own image from a url\n",
    "\n",
    "from matplotlib import pyplot as plt"
   ]
  },
  {
   "cell_type": "markdown",
   "metadata": {},
   "source": [
    "## Load image"
   ]
  },
  {
   "cell_type": "code",
   "execution_count": null,
   "metadata": {},
   "outputs": [],
   "source": [
    "img = cv2.imread('data/Verona.jpg')\n",
    "plt.imshow(img)\n",
    "plt.show()"
   ]
  },
  {
   "cell_type": "code",
   "execution_count": null,
   "metadata": {},
   "outputs": [],
   "source": [
    "# Alternatively, load image from URL\n",
    "#img = io.imread('https://live.staticflickr.com/65535/49079256481_e676533e01_b_d.jpg')\n",
    "#plt.imshow(img) ,plt.title('web image')\n",
    "#plt.show()"
   ]
  },
  {
   "cell_type": "markdown",
   "metadata": {},
   "source": [
    "## Image representation"
   ]
  },
  {
   "cell_type": "markdown",
   "metadata": {},
   "source": [
    "### Binary images"
   ]
  },
  {
   "cell_type": "code",
   "execution_count": null,
   "metadata": {},
   "outputs": [],
   "source": [
    "img = cv2.imread('data/Verona_bw.pbm')\n",
    "print(img[186:206,782:800,0])\n",
    "fig, (ax1, ax2) = plt.subplots(ncols=2, figsize=(12, 6), sharex=False, sharey=False)\n",
    "ax1.imshow(img)\n",
    "ax2.imshow(img[186:206,782:800])\n",
    "plt.show()\n"
   ]
  },
  {
   "cell_type": "markdown",
   "metadata": {},
   "source": [
    "### Grayscale images"
   ]
  },
  {
   "cell_type": "code",
   "execution_count": null,
   "metadata": {
    "scrolled": true
   },
   "outputs": [],
   "source": [
    "img = cv2.imread('data/Verona_gray.png')\n",
    "print(img[186:206,782:800,0])\n",
    "fig, (ax1, ax2) = plt.subplots(ncols=2, figsize=(12, 6), sharex=False, sharey=False)\n",
    "ax1.imshow(img)\n",
    "ax2.imshow(img[186:206,782:800])\n",
    "plt.show()"
   ]
  },
  {
   "cell_type": "markdown",
   "metadata": {},
   "source": [
    "### Color images"
   ]
  },
  {
   "cell_type": "code",
   "execution_count": null,
   "metadata": {},
   "outputs": [],
   "source": [
    "img = cv2.imread('data/Verona_color.png')\n",
    "print(img[186:206,782:800,0])\n",
    "print(img[186:206,782:800,1])\n",
    "print(img[186:206,782:800,2])\n",
    "fig, (ax1, ax2) = plt.subplots(ncols=2, figsize=(12, 6), sharex=False, sharey=False)\n",
    "ax1.imshow(img)\n",
    "ax2.imshow(img[186:206,782:800])\n",
    "plt.show()"
   ]
  },
  {
   "cell_type": "markdown",
   "metadata": {},
   "source": [
    "## Image manipulation"
   ]
  },
  {
   "cell_type": "code",
   "execution_count": null,
   "metadata": {},
   "outputs": [],
   "source": [
    "height,width,channels = img.shape\n",
    "img2= cv2.resize(img,(round(0.25*width), round(0.25*height)), interpolation = cv2.INTER_LINEAR)\n",
    "height,width,channels = img2.shape\n",
    "print('image is ', height,'x', width, 'x', channels)\n",
    "# convert color space\n",
    "flags = [i for i in dir(cv2) if i.startswith('COLOR_')]\n",
    "print(flags)"
   ]
  },
  {
   "cell_type": "code",
   "execution_count": null,
   "metadata": {},
   "outputs": [],
   "source": [
    "img2_rgb = cv2.cvtColor(img2, cv2.COLOR_BGR2RGB)\n",
    "img2_gray = cv2.cvtColor(img2, cv2.COLOR_BGR2GRAY)\n",
    "fig, (ax1, ax2) = plt.subplots(ncols=2, figsize=(12, 6), sharex=True, sharey=True)\n",
    "ax1.imshow(img2_rgb), ax1.set_title('RGB')\n",
    "ax2.imshow(img2_gray, cmap=\"gray\"),ax2.set_title('Gray')\n",
    "plt.show()\n",
    "# stack images horizontally\n",
    "res = np.hstack((img2_gray,img2_gray)) # stack images side-by-side\n",
    "plt.figure(1, figsize=(12,6))\n",
    "plt.imshow(res,cmap=\"gray\"),plt.title('Stacked images')\n",
    "plt.show()"
   ]
  },
  {
   "cell_type": "markdown",
   "metadata": {},
   "source": [
    "## Image distortions"
   ]
  },
  {
   "cell_type": "code",
   "execution_count": null,
   "metadata": {},
   "outputs": [],
   "source": [
    "noise = np.zeros(img2_gray.shape, np.float) # initialize noise matrix\n",
    "cv2.randn(noise,0,50)  # gaussian noise - destination, mean, std\n",
    "img2_noisy = img2_gray + noise\n",
    "fig, (ax1, ax2) = plt.subplots(ncols=2, figsize=(12, 6), sharex=True, sharey=True)\n",
    "ax1.imshow(img2_gray,cmap=\"gray\"), ax1.set_title('image')\n",
    "ax2.imshow(img2_noisy,cmap=\"gray\"),ax2.set_title('noisy image')\n",
    "plt.show()\n",
    "#print(noise[0:10,0:10])"
   ]
  },
  {
   "cell_type": "markdown",
   "metadata": {},
   "source": [
    "## Pixel operations"
   ]
  },
  {
   "cell_type": "code",
   "execution_count": null,
   "metadata": {},
   "outputs": [],
   "source": [
    "# Inversion\n",
    "img2_gray_inv = 255 - img2_gray\n",
    "\n",
    "plt.imshow(img2_gray_inv, cmap=\"gray\") ,plt.title('inverted image')\n",
    "plt.show()"
   ]
  },
  {
   "cell_type": "code",
   "execution_count": null,
   "metadata": {},
   "outputs": [],
   "source": [
    "# Image thresholding\n",
    "th = 127\n",
    "ret,img2_gray_th = cv2.threshold(img2_gray,th,255,cv2.THRESH_BINARY)\n",
    "fig, (ax1, ax2) = plt.subplots(ncols=2, figsize=(12, 6), sharex=True, sharey=True)\n",
    "ax1.imshow(img2_gray, cmap=\"gray\"),ax1.set_title('Gray')\n",
    "ax2.imshow(img2_gray_th, cmap=\"gray\"), ax2.set_title('Threshold '+str(th))\n",
    "plt.show()"
   ]
  },
  {
   "cell_type": "code",
   "execution_count": null,
   "metadata": {},
   "outputs": [],
   "source": [
    "# Histograms\n",
    "# First we create and plot the histogram\n",
    "hist,bins = np.histogram(img2_gray.flatten(),256,[0,256])\n",
    "cdf = hist.cumsum()\n",
    "cdf_normalized = cdf/cdf.max()\n",
    "fig, (ax1, ax2) = plt.subplots(ncols=2, figsize=(12, 4), sharex=True, sharey=False)\n",
    "ax1.hist(img2_gray.flatten(),256,[0,256], color = 'r'), ax1.set_xlim([0,256]), ax1.set_title('histogram')\n",
    "ax2.plot(cdf_normalized, color = 'b'), ax2.set_ylim([0,1]), ax2.set_title('cumulative histogram')\n",
    "plt.show()\n",
    "\n",
    "img2_gray_histeq = cdf[img2_gray]\n",
    "# alternatively\n",
    "img2_gray_eq = cv2.equalizeHist(img2_gray)\n",
    "\n",
    "fig, (ax1, ax2) = plt.subplots(ncols=2, figsize=(12, 6), sharex=True, sharey=True)\n",
    "ax1.imshow(img2_gray,cmap=\"gray\"), ax1.set_title('input image')\n",
    "ax2.imshow(img2_gray_histeq,cmap=\"gray\"), ax1.set_title('histogram equalized image')\n",
    "plt.show()"
   ]
  },
  {
   "cell_type": "code",
   "execution_count": null,
   "metadata": {},
   "outputs": [],
   "source": [
    "# Image quantization\n",
    "N = 4 # number of levels\n",
    "img2_gray_q = np.floor(img2_gray/(256/N))*(256/N)\n",
    "\n",
    "fig, (ax1) = plt.subplots(ncols=1, figsize=(12, 6), sharex=True, sharey=True)\n",
    "ax1.imshow(img2_gray_q, cmap=\"gray\"),ax1.set_title(str(N)+' levels')\n",
    "plt.show()"
   ]
  },
  {
   "cell_type": "markdown",
   "metadata": {},
   "source": [
    "## Filtering"
   ]
  },
  {
   "cell_type": "code",
   "execution_count": null,
   "metadata": {},
   "outputs": [],
   "source": [
    "# Linear filtering\n",
    "kernel_size = 5\n",
    "kernel = np.ones((kernel_size,kernel_size),np.float32)/(kernel_size*kernel_size)\n",
    "img2_gray_filt = cv2.filter2D(img2_gray,-1,kernel)\n",
    "img2_rgb_filt = cv2.filter2D(img2_rgb,-1,kernel)\n",
    "fig, axes = plt.subplots(ncols=2, nrows=2, figsize=(18, 12), sharex=True, sharey=True)\n",
    "axes[0,0].imshow(img2_gray, cmap=\"gray\"), axes[0,0].set_title('Gray')\n",
    "axes[0,1].imshow(img2_gray_filt, cmap=\"gray\"), axes[0,1].set_title('Filtered')\n",
    "axes[1,0].imshow(img2_rgb), axes[1,0].set_title('Color')\n",
    "axes[1,1].imshow(img2_rgb_filt), axes[1,1].set_title('Filtered color')\n",
    "plt.show()"
   ]
  },
  {
   "cell_type": "code",
   "execution_count": null,
   "metadata": {},
   "outputs": [],
   "source": [
    "img2_gray_gauss = cv2.GaussianBlur(img2_gray,(3,3),0)\n",
    "fig, (ax1, ax2) = plt.subplots(ncols=2, figsize=(18, 6), sharex=True, sharey=True)\n",
    "ax1.imshow(img2_gray, cmap=\"gray\"),ax1.set_title('Gray')\n",
    "ax2.imshow(img2_gray_gauss, cmap=\"gray\"), ax2.set_title('Filtered with Gaussian blur')\n",
    "plt.show()"
   ]
  },
  {
   "cell_type": "code",
   "execution_count": null,
   "metadata": {},
   "outputs": [],
   "source": [
    "img2_gray_laplacian = cv2.Laplacian(img2_gray,cv2.CV_64F) # note CV_64F format, because CV_8U would clip negative values, so would require abs\n",
    "fig, (ax1, ax2) = plt.subplots(ncols=2, figsize=(18, 6), sharex=True, sharey=True)\n",
    "ax1.imshow(img2_gray, cmap=\"gray\"),ax1.set_title('Gray')\n",
    "ax2.imshow(img2_gray_laplacian, cmap=\"gray\"), ax2.set_title('Filtered with Laplacian filter')\n",
    "plt.show()"
   ]
  },
  {
   "cell_type": "code",
   "execution_count": null,
   "metadata": {},
   "outputs": [],
   "source": [
    "kernel = np.int8([[0, -1, 0],[-1, 4, -1],[0, -1, 0]])\n",
    "img2_gray_filter = cv2.filter2D(img2_gray,-1,kernel)\n",
    "\n",
    "fig, (ax1, ax2) = plt.subplots(ncols=2, figsize=(18, 6), sharex=True, sharey=True)\n",
    "ax1.imshow(img2_gray, cmap=\"gray\"),ax1.set_title('Gray')\n",
    "ax2.imshow(img2_gray_filter, cmap=\"gray\"), ax2.set_title('Filtered with custom filter kernel')\n",
    "plt.show()"
   ]
  },
  {
   "cell_type": "code",
   "execution_count": null,
   "metadata": {},
   "outputs": [],
   "source": [
    "# median blur filtering\n",
    "img2_rgb_median = cv2.medianBlur(img2_rgb,5)\n",
    "fig, (ax1, ax2) = plt.subplots(ncols=2, figsize=(18, 6), sharex=True, sharey=True)\n",
    "ax1.imshow(img2_rgb),ax1.set_title('Color image')\n",
    "ax2.imshow(img2_rgb_median), ax2.set_title('Filtered with median blur')\n",
    "plt.show()"
   ]
  },
  {
   "cell_type": "code",
   "execution_count": null,
   "metadata": {},
   "outputs": [],
   "source": [
    "# bilateral filter\n",
    "img2_rgb_bilateral = cv2.bilateralFilter(img2_rgb,5,25,25)\n",
    "fig, (ax1, ax2) = plt.subplots(ncols=2, figsize=(18, 6), sharex=True, sharey=True)\n",
    "ax1.imshow(img2_rgb),ax1.set_title('Color image')\n",
    "ax2.imshow(img2_rgb_bilateral), ax2.set_title('Filtered with bilateral filter')\n",
    "plt.show()"
   ]
  },
  {
   "cell_type": "code",
   "execution_count": null,
   "metadata": {},
   "outputs": [],
   "source": [
    "# morphological filters\n",
    "kernel = np.ones((5,5),np.uint8)\n",
    "#kernel = cv2.getStructuringElement(cv2.MORPH_RECT,(5,5))\n",
    "#kernel = cv2.getStructuringElement(cv2.MORPH_ELLIPSE,(5,5))\n",
    "#kernel = cv2.getStructuringElement(cv2.MORPH_CROSS,(5,5))\n",
    "img_erode = cv2.erode(img2_gray_th, kernel, iterations=1)\n",
    "img_dilate = cv2.dilate(img2_gray_th, kernel, iterations=1)\n",
    "\n",
    "fig, (ax1, ax2, ax3) = plt.subplots(ncols=3, figsize=(18, 6), sharex=True, sharey=True)\n",
    "ax1.imshow(img2_gray_th, cmap=\"gray\"),ax1.set_title('Gray')\n",
    "ax2.imshow(img_erode, cmap=\"gray\"), ax2.set_title('Erosion')\n",
    "ax3.imshow(img_dilate, cmap=\"gray\"), ax3.set_title('Dilation')\n",
    "plt.show()"
   ]
  },
  {
   "cell_type": "code",
   "execution_count": null,
   "metadata": {},
   "outputs": [],
   "source": [
    "th = 127\n",
    "img_open = cv2.dilate(cv2.erode(img2_gray_th, kernel, iterations=1), kernel, iterations=1)\n",
    "# img_open = cv2.morphologyEx(img2_gray_th, cv2.MORPH_OPEN, kernel)\n",
    "img_close = cv2.erode(cv2.dilate(img2_gray_th, kernel, iterations=1), kernel, iterations=1)\n",
    "\n",
    "\n",
    "fig, (ax1, ax2, ax3) = plt.subplots(ncols=3, figsize=(18, 6), sharex=True, sharey=True)\n",
    "ax1.imshow(img2_gray_th, cmap=\"gray\"), ax1.set_title('Image')\n",
    "ax2.imshow(img_open, cmap=\"gray\"),ax2.set_title('Opening')\n",
    "ax3.imshow(img_close, cmap=\"gray\"), ax3.set_title('Closing')\n",
    "plt.show()"
   ]
  },
  {
   "cell_type": "markdown",
   "metadata": {},
   "source": [
    "## Image warping"
   ]
  },
  {
   "cell_type": "code",
   "execution_count": null,
   "metadata": {},
   "outputs": [],
   "source": [
    "M = np.float32([[1,0,100],[0,1,50]])\n",
    "dst = cv2.warpAffine(img2,M,(width, height))\n",
    "\n",
    "plt.imshow(cv2.cvtColor(dst, cv2.COLOR_BGR2RGB))\n",
    "plt.show()"
   ]
  },
  {
   "cell_type": "code",
   "execution_count": null,
   "metadata": {},
   "outputs": [],
   "source": [
    "alpha = 10*math.pi/180\n",
    "M = np.float32([[math.cos(alpha), -math.sin(alpha), 0],[math.sin(alpha),math.cos(alpha),0]])\n",
    "dst = cv2.warpAffine(img2,M,(width, height))\n",
    "\n",
    "plt.imshow(cv2.cvtColor(dst, cv2.COLOR_BGR2RGB))\n",
    "plt.show()"
   ]
  },
  {
   "cell_type": "code",
   "execution_count": null,
   "metadata": {},
   "outputs": [],
   "source": [
    "M = cv2.getRotationMatrix2D((width/2, height/2),-10,1)\n",
    "dst = cv2.warpAffine(img2,M,(width, height))\n",
    "\n",
    "plt.imshow(cv2.cvtColor(dst, cv2.COLOR_BGR2RGB))\n",
    "plt.show()"
   ]
  },
  {
   "cell_type": "code",
   "execution_count": null,
   "metadata": {},
   "outputs": [],
   "source": [
    "pts1 = np.float32([[56,65],[158,52],[28,237],[289,230]])\n",
    "pts2 = np.float32([[0,0],[300,0],[0,300],[300,300]])\n",
    "\n",
    "M = cv2.getPerspectiveTransform(pts1,pts2)\n",
    "\n",
    "dst = cv2.warpPerspective(img2_rgb,M,(300,300))\n",
    "\n",
    "plt.subplot(121),plt.imshow(img2_rgb),plt.title('Input')\n",
    "plt.subplot(122),plt.imshow(dst),plt.title('Output')\n",
    "plt.show()"
   ]
  },
  {
   "cell_type": "markdown",
   "metadata": {},
   "source": [
    "# Notes"
   ]
  },
  {
   "cell_type": "markdown",
   "metadata": {},
   "source": [
    "Other packages exist for image processing in Python:\n",
    "* Scikit-Image\n",
    " * Documentation: http://scikit-image.org\n",
    " * Tutorial: http://www.scipy-lectures.org/packages/scikit-image/index.html#scikit-image\n",
    "* SciPy\n",
    " * Documentation: https://docs.scipy.org/doc/scipy/reference/\n",
    " * Tutorial: http://www.scipy-lectures.org/advanced/image_processing/"
   ]
  }
 ],
 "metadata": {
  "kernelspec": {
   "display_name": "Python 3",
   "language": "python",
   "name": "python3"
  },
  "language_info": {
   "codemirror_mode": {
    "name": "ipython",
    "version": 3
   },
   "file_extension": ".py",
   "mimetype": "text/x-python",
   "name": "python",
   "nbconvert_exporter": "python",
   "pygments_lexer": "ipython3",
   "version": "3.7.4"
  }
 },
 "nbformat": 4,
 "nbformat_minor": 4
}
